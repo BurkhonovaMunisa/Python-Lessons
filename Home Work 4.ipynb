{
 "cells": [
  {
   "cell_type": "markdown",
   "id": "7341464f",
   "metadata": {},
   "source": [
    "### Sort a Dictionary by Value\n",
    "Write a Python script to sort (ascending and descending) a dictionary by value."
   ]
  },
  {
   "cell_type": "code",
   "execution_count": 7,
   "id": "737613bb",
   "metadata": {},
   "outputs": [
    {
     "data": {
      "text/plain": [
       "{'name': 'Ali', 'age': '22', 'city': 'London'}"
      ]
     },
     "execution_count": 7,
     "metadata": {},
     "output_type": "execute_result"
    }
   ],
   "source": [
    "my_dict = {'name' : 'Ali', 'age' : '22', 'city' : \"London\"}\n",
    "ascending_sorted = dict(my_dict)\n",
    "ascending_sorted\n"
   ]
  },
  {
   "cell_type": "markdown",
   "id": "102d5d18",
   "metadata": {},
   "source": [
    " Add a Key to a Dictionary\n",
    "Write a Python script to add a key to a dictionary"
   ]
  },
  {
   "cell_type": "code",
   "execution_count": 12,
   "id": "1c676b10",
   "metadata": {},
   "outputs": [],
   "source": [
    "my_dict.update({'Gender': 'male'})"
   ]
  },
  {
   "cell_type": "code",
   "execution_count": 15,
   "id": "642724e9",
   "metadata": {},
   "outputs": [
    {
     "data": {
      "text/plain": [
       "{0: 10, 1: 20, 2: 30}"
      ]
     },
     "execution_count": 15,
     "metadata": {},
     "output_type": "execute_result"
    }
   ],
   "source": [
    "my_dict_num = {0: 10, 1: 20}\n",
    "my_dict_num.update({2: 30})\n",
    "\n",
    "my_dict_num"
   ]
  },
  {
   "cell_type": "markdown",
   "id": "dd31e73e",
   "metadata": {},
   "source": [
    "Concatenate Multiple Dictionaries\n",
    "Write a Python script to concatenate the following dictionaries to create a new one.\n"
   ]
  },
  {
   "cell_type": "code",
   "execution_count": 19,
   "id": "8050dc6c",
   "metadata": {},
   "outputs": [
    {
     "data": {
      "text/plain": [
       "{1: 10, 2: 20, 3: 30, 4: 40, 5: 50, 6: 60}"
      ]
     },
     "execution_count": 19,
     "metadata": {},
     "output_type": "execute_result"
    }
   ],
   "source": [
    "dic1 = {1: 10, 2: 20}\n",
    "dic2 = {3: 30, 4: 40}\n",
    "dic3 = {5: 50, 6: 60}\n",
    "\n",
    "dic1.update(dic2)\n",
    "dic1.update(dic3)\n",
    "dic1"
   ]
  },
  {
   "cell_type": "markdown",
   "id": "a8f20ac8",
   "metadata": {},
   "source": [
    " Generate a Dictionary with Squares\n",
    "Write a Python script to generate and print a dictionary that contains a number (between 1 and n) in the form (x, x*x).\n",
    "\n",
    "Sample Dictionary (n = 5):"
   ]
  },
  {
   "cell_type": "code",
   "execution_count": null,
   "id": "4dbad6b1",
   "metadata": {},
   "outputs": [],
   "source": [
    "Couldnt solve"
   ]
  },
  {
   "cell_type": "markdown",
   "id": "23714548",
   "metadata": {},
   "source": [
    "Dictionary of Squares (1 to 15)\n",
    "Write a Python script to print a dictionary where the keys are numbers between 1 and 15 (both included) and the values are the square of the keys."
   ]
  },
  {
   "cell_type": "code",
   "execution_count": null,
   "id": "219d73c0",
   "metadata": {},
   "outputs": [],
   "source": [
    "Couldnt solve"
   ]
  },
  {
   "cell_type": "markdown",
   "id": "ea10df88",
   "metadata": {},
   "source": [
    "Create a Set\n",
    "Write a Python program to create a set."
   ]
  },
  {
   "cell_type": "code",
   "execution_count": 20,
   "id": "3a3186a7",
   "metadata": {},
   "outputs": [
    {
     "data": {
      "text/plain": [
       "{1, 2, 3, 4}"
      ]
     },
     "execution_count": 20,
     "metadata": {},
     "output_type": "execute_result"
    }
   ],
   "source": [
    "my_set = {1, 2, 3, 4}\n",
    "my_set"
   ]
  },
  {
   "cell_type": "markdown",
   "id": "796b9f96",
   "metadata": {},
   "source": [
    "Iterate Over a Set\n",
    "Write a Python program to iterate over sets."
   ]
  },
  {
   "cell_type": "code",
   "execution_count": null,
   "id": "53cf0e58",
   "metadata": {},
   "outputs": [
    {
     "name": "stdout",
     "output_type": "stream",
     "text": [
      "banana\n",
      "apple\n",
      "date\n",
      "cherry\n"
     ]
    }
   ],
   "source": [
    "my_set = {'apple', 'banana', 'cherry', 'date'}\n",
    "\n",
    "for item in my_set:\n",
    "    print(item)"
   ]
  },
  {
   "cell_type": "markdown",
   "id": "83d3e8f5",
   "metadata": {},
   "source": [
    "Add Member(s) to a Set\n",
    "Write a Python program to add member(s) to a set."
   ]
  },
  {
   "cell_type": "code",
   "execution_count": 25,
   "id": "6f31250d",
   "metadata": {},
   "outputs": [
    {
     "data": {
      "text/plain": [
       "{'Ali', 'Barno', 'Guli', 'Muni', 'Vali'}"
      ]
     },
     "execution_count": 25,
     "metadata": {},
     "output_type": "execute_result"
    }
   ],
   "source": [
    "my_set = {'Ali', 'Vali', 'Muni', 'Guli'}\n",
    "my_set.add('Barno')\n",
    "my_set"
   ]
  },
  {
   "cell_type": "markdown",
   "id": "e71d0649",
   "metadata": {},
   "source": [
    "Remove Item(s) from a Set\n",
    "Write a Python program to remove item(s) from a given set."
   ]
  },
  {
   "cell_type": "code",
   "execution_count": 38,
   "id": "2c569709",
   "metadata": {},
   "outputs": [
    {
     "data": {
      "text/plain": [
       "{'Ali', 'Guli', 'Muni', 'Vali'}"
      ]
     },
     "execution_count": 38,
     "metadata": {},
     "output_type": "execute_result"
    }
   ],
   "source": [
    "my_set = {'Ali', 'Vali', 'Muni', 'Guli'}\n",
    "my_set.clear\n",
    "my_set"
   ]
  },
  {
   "cell_type": "markdown",
   "id": "ae099b4c",
   "metadata": {},
   "source": [
    "Remove an Item if Present in the Set\n",
    "Write a Python program to remove an item from a set if it is present in the set."
   ]
  },
  {
   "cell_type": "code",
   "execution_count": 35,
   "id": "3d18b2f0",
   "metadata": {},
   "outputs": [
    {
     "data": {
      "text/plain": [
       "{'Guli', 'Muni', 'Vali'}"
      ]
     },
     "execution_count": 35,
     "metadata": {},
     "output_type": "execute_result"
    }
   ],
   "source": [
    "my_set = {'Ali', 'Vali', 'Muni', 'Guli'}\n",
    "my_set.remove('Ali')\n",
    "my_set"
   ]
  },
  {
   "cell_type": "code",
   "execution_count": null,
   "id": "0a295f8a",
   "metadata": {},
   "outputs": [],
   "source": []
  }
 ],
 "metadata": {
  "kernelspec": {
   "display_name": "Python 3",
   "language": "python",
   "name": "python3"
  },
  "language_info": {
   "codemirror_mode": {
    "name": "ipython",
    "version": 3
   },
   "file_extension": ".py",
   "mimetype": "text/x-python",
   "name": "python",
   "nbconvert_exporter": "python",
   "pygments_lexer": "ipython3",
   "version": "3.12.5"
  }
 },
 "nbformat": 4,
 "nbformat_minor": 5
}
