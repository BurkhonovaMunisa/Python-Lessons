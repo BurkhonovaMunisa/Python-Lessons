{
 "cells": [
  {
   "cell_type": "markdown",
   "id": "25aacf34",
   "metadata": {},
   "source": [
    "### Modify String with Underscores\n",
    "Given a string txt, insert an underscore (_) after every third character. If a character is a vowel or already has an underscore after it, shift the underscore placement to the next character. No underscore should be added at the end."
   ]
  },
  {
   "cell_type": "markdown",
   "id": "171ba2c3",
   "metadata": {},
   "source": [
    " Modify String with Underscores\n",
    "Given a string txt, insert an underscore (_) after every third character. If a character is a vowel or already has an underscore after it, shift the underscore placement to the next character. No underscore should be added at the end."
   ]
  },
  {
   "cell_type": "code",
   "execution_count": null,
   "id": "8890cfc4",
   "metadata": {},
   "outputs": [],
   "source": [
    "txt = input('Enter any text: ')\n"
   ]
  },
  {
   "cell_type": "markdown",
   "id": "d199d0a1",
   "metadata": {},
   "source": [
    "The provided code stub reads an integer, n, from STDIN. For all non-negative integers i where 0 <= i < n, print i^2."
   ]
  },
  {
   "cell_type": "markdown",
   "id": "36883b1f",
   "metadata": {},
   "source": [
    "The provided code stub reads an integer, n, from STDIN. For all non-negative integers i where 0 <= i < n, print i^2."
   ]
  },
  {
   "cell_type": "code",
   "execution_count": 4,
   "id": "24384e0d",
   "metadata": {},
   "outputs": [
    {
     "name": "stdout",
     "output_type": "stream",
     "text": [
      "0\n",
      "1\n",
      "4\n"
     ]
    }
   ],
   "source": [
    "num = int(input('Enter any number: '))\n",
    "for i in range(num):\n",
    "    print(i ** 2)"
   ]
  },
  {
   "cell_type": "markdown",
   "id": "cc994ab0",
   "metadata": {},
   "source": [
    "Loop-Based Exercises\n",
    "Exercise 1: Print first 10 natural numbers using a while loop\n",
    "Exercise 2: Print the following pattern\n",
    "1\n",
    "1 2\n",
    "1 2 3\n",
    "1 2 3 4\n",
    "1 2 3 4 5"
   ]
  },
  {
   "cell_type": "code",
   "execution_count": 5,
   "id": "d329f78c",
   "metadata": {},
   "outputs": [
    {
     "name": "stdout",
     "output_type": "stream",
     "text": [
      "1\n",
      "2\n",
      "3\n",
      "4\n",
      "5\n",
      "6\n",
      "7\n",
      "8\n",
      "9\n",
      "10\n"
     ]
    }
   ],
   "source": [
    "i = 1\n",
    "while i <= 10:\n",
    "    print(i)\n",
    "    i += 1"
   ]
  },
  {
   "cell_type": "markdown",
   "id": "b5ce5eb6",
   "metadata": {},
   "source": [
    "Calculate sum of all numbers from 1 to a given number"
   ]
  },
  {
   "cell_type": "code",
   "execution_count": 7,
   "id": "76bc20ef",
   "metadata": {},
   "outputs": [
    {
     "name": "stdout",
     "output_type": "stream",
     "text": [
      "Sum is: 21\n"
     ]
    }
   ],
   "source": [
    "num = int(input('Enter any number: '))\n",
    "total = sum(range(1, num + 1))\n",
    "print(\"Sum is:\", total)"
   ]
  },
  {
   "cell_type": "markdown",
   "id": "31b127be",
   "metadata": {},
   "source": [
    "Print multiplication table of a given number"
   ]
  },
  {
   "cell_type": "code",
   "execution_count": null,
   "id": "235ddac4",
   "metadata": {},
   "outputs": [
    {
     "name": "stdout",
     "output_type": "stream",
     "text": [
      "multiplication number is: 5\n",
      "5 x 1 = 5\n",
      "5 x 2 = 10\n",
      "5 x 3 = 15\n",
      "5 x 4 = 20\n",
      "5 x 5 = 25\n",
      "5 x 6 = 30\n",
      "5 x 7 = 35\n",
      "5 x 8 = 40\n",
      "5 x 9 = 45\n",
      "5 x 10 = 50\n"
     ]
    }
   ],
   "source": [
    "num = int(input('Enter any number: '))\n",
    "mult = range(num*num)\n",
    "print(f'multiplication number is: {num}')\n",
    "\n",
    "for i in range(1, 11):\n",
    "    print(f\"{num} x {i} = {num * i}\")"
   ]
  },
  {
   "cell_type": "markdown",
   "id": "f8d3dcbd",
   "metadata": {},
   "source": [
    "Display numbers from a list using a loop"
   ]
  },
  {
   "cell_type": "code",
   "execution_count": 13,
   "id": "bc117a32",
   "metadata": {},
   "outputs": [
    {
     "name": "stdout",
     "output_type": "stream",
     "text": [
      "Numbers in the list:\n",
      "3\n",
      "7\n",
      "12\n",
      "5\n",
      "9\n"
     ]
    }
   ],
   "source": [
    "numbers = [3, 7, 12, 5, 9]\n",
    "\n",
    "print(\"Numbers in the list:\")\n",
    "\n",
    "for num in numbers:\n",
    "    print(num)\n"
   ]
  },
  {
   "cell_type": "markdown",
   "id": "255968f6",
   "metadata": {},
   "source": [
    "Count the total number of digits in a number"
   ]
  },
  {
   "cell_type": "code",
   "execution_count": null,
   "id": "e4d9fcf9",
   "metadata": {},
   "outputs": [],
   "source": [
    "num = int(input('Enter any number: '))\n",
    "indexed = num.__index__\n",
    "counted = count(indexed)"
   ]
  },
  {
   "cell_type": "markdown",
   "id": "0efde4a2",
   "metadata": {},
   "source": [
    "Print list in reverse order using a loop"
   ]
  },
  {
   "cell_type": "code",
   "execution_count": 20,
   "id": "a39fb1ec",
   "metadata": {},
   "outputs": [
    {
     "name": "stdout",
     "output_type": "stream",
     "text": [
      "5\n",
      "6\n",
      "7\n",
      "9\n",
      "1\n",
      "55\n"
     ]
    }
   ],
   "source": [
    "def reverse(num):\n",
    "    return int(str(num)[::-1])\n",
    "\n",
    "numbers = [5, 6, 7, 9, 10, 55]\n",
    "\n",
    "for i in numbers:\n",
    "    print(reverse(i))"
   ]
  },
  {
   "cell_type": "markdown",
   "id": "89b41c65",
   "metadata": {},
   "source": [
    "Display numbers from -10 to -1 using a for loop"
   ]
  },
  {
   "cell_type": "code",
   "execution_count": 32,
   "id": "686dd78a",
   "metadata": {},
   "outputs": [],
   "source": [
    "num1 = -1\n",
    "num2 = -11\n",
    "while num1 < num2:\n",
    "    print(num1)"
   ]
  },
  {
   "cell_type": "markdown",
   "id": "86714ed3",
   "metadata": {},
   "source": [
    "Display message “Done” after successful loop execution"
   ]
  },
  {
   "cell_type": "code",
   "execution_count": 30,
   "id": "9cb5d3e4",
   "metadata": {},
   "outputs": [
    {
     "name": "stdout",
     "output_type": "stream",
     "text": [
      "Reversed numbers:\n",
      "5\n",
      "6\n",
      "7\n",
      "9\n",
      "1\n",
      "55\n",
      "Done\n"
     ]
    }
   ],
   "source": [
    "def reverse(num):\n",
    "    return int(str(num)[::-1])\n",
    "\n",
    "numbers = [5, 6, 7, 9, 10, 55]\n",
    "\n",
    "print('Reversed numbers:')\n",
    "\n",
    "for i in numbers:\n",
    "    print(reverse(i))\n",
    "\n",
    "print(\"Done\")"
   ]
  },
  {
   "cell_type": "markdown",
   "id": "56465771",
   "metadata": {},
   "source": [
    "Return the elements that are not common between two lists. The order of elements does not matter."
   ]
  },
  {
   "cell_type": "code",
   "execution_count": 31,
   "id": "31b29ad0",
   "metadata": {},
   "outputs": [
    {
     "name": "stdout",
     "output_type": "stream",
     "text": [
      "True\n"
     ]
    }
   ],
   "source": [
    "list1 = [1, 1, 2]\n",
    "list2 = [2, 3, 4]\n",
    "uncommon = list1 is not list2\n",
    "print (uncommon)\n"
   ]
  }
 ],
 "metadata": {
  "kernelspec": {
   "display_name": "Python 3",
   "language": "python",
   "name": "python3"
  },
  "language_info": {
   "codemirror_mode": {
    "name": "ipython",
    "version": 3
   },
   "file_extension": ".py",
   "mimetype": "text/x-python",
   "name": "python",
   "nbconvert_exporter": "python",
   "pygments_lexer": "ipython3",
   "version": "3.12.5"
  }
 },
 "nbformat": 4,
 "nbformat_minor": 5
}
