{
 "cells": [
  {
   "cell_type": "code",
   "execution_count": null,
   "id": "fe06e0f3",
   "metadata": {},
   "outputs": [],
   "source": [
    "def add(a, b):\n",
    "    \"\"\"Return the sum of a and b.\"\"\"\n",
    "    return a + b\n",
    "\n",
    "\n",
    "def subtract(a, b):\n",
    "    \"\"\"Return the difference of a and b (a − b).\"\"\"\n",
    "    return a - b\n",
    "\n",
    "\n",
    "def multiply(a, b):\n",
    "    \"\"\"Return the product of a and b.\"\"\"\n",
    "    return a * b\n",
    "\n",
    "\n",
    "def divide(a, b):\n",
    "    \"\"\"Return the quotient of a and b. Raises ZeroDivisionError if b is zero.\"\"\"\n",
    "    if b == 0:\n",
    "        raise ZeroDivisionError(\"Division by zero is undefined.\")\n",
    "    return a / b"
   ]
  },
  {
   "cell_type": "code",
   "execution_count": null,
   "id": "d3afcf50",
   "metadata": {},
   "outputs": [],
   "source": [
    "def reverse_string(s):\n",
    "    \"\"\"Return the reverse of the input string s.\"\"\"\n",
    "    return s[::-1]\n",
    "\n",
    "\n",
    "def count_vowels(s):\n",
    "    \"\"\"Return the number of vowels in the input string s (case‑insensitive).\"\"\"\n",
    "    vowels = set(\"aeiouAEIOU\")\n",
    "    return sum(1 for ch in s if ch in vowels)"
   ]
  }
 ],
 "metadata": {
  "language_info": {
   "name": "python"
  }
 },
 "nbformat": 4,
 "nbformat_minor": 5
}
