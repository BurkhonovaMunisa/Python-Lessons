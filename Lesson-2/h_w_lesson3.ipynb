{
 "cells": [
  {
   "cell_type": "markdown",
   "id": "57fab298",
   "metadata": {},
   "source": [
    " ###Create and Access List Elements\n",
    "Create a list containing five different fruits and print the third fruit."
   ]
  },
  {
   "cell_type": "code",
   "execution_count": 2,
   "id": "c6cc116e",
   "metadata": {},
   "outputs": [
    {
     "name": "stdout",
     "output_type": "stream",
     "text": [
      "lemon\n"
     ]
    }
   ],
   "source": [
    "my_list = ['apple', 'pineapple', 'lemon', 'banana', 'strawberry']\n",
    "print(my_list[2])"
   ]
  },
  {
   "cell_type": "markdown",
   "id": "6ee6cbf6",
   "metadata": {},
   "source": [
    "### Concatenate Two Lists\n",
    "Create two lists of numbers and concatenate them into a single list."
   ]
  },
  {
   "cell_type": "code",
   "execution_count": 4,
   "id": "e15d8252",
   "metadata": {},
   "outputs": [
    {
     "name": "stdout",
     "output_type": "stream",
     "text": [
      "[1, 2, 3, 4, 5, 6]\n"
     ]
    }
   ],
   "source": [
    "list1 = [1,2,3]\n",
    "list2 = [4,5,6]\n",
    "list1.extend(list2)\n",
    "print(list1)"
   ]
  },
  {
   "cell_type": "markdown",
   "id": "08369992",
   "metadata": {},
   "source": [
    "####Extract Elements from a List\n",
    "Given a list of numbers, extract the first, middle, and last elements and store them in a new list."
   ]
  },
  {
   "cell_type": "code",
   "execution_count": 8,
   "id": "2453c8a7",
   "metadata": {},
   "outputs": [
    {
     "name": "stdout",
     "output_type": "stream",
     "text": [
      "[2, 4, 6]\n"
     ]
    }
   ],
   "source": [
    "my_list = [1, 2, 3, 4, 5, 6]\n",
    "print(my_list[1: :2])"
   ]
  },
  {
   "cell_type": "markdown",
   "id": "a7fccf89",
   "metadata": {},
   "source": [
    "####Convert List to Tuple\n",
    "Create a list of your five favorite movies and convert it into a tuple."
   ]
  },
  {
   "cell_type": "code",
   "execution_count": 11,
   "id": "6bf2d9d4",
   "metadata": {},
   "outputs": [
    {
     "name": "stdout",
     "output_type": "stream",
     "text": [
      "('Spring', 'One day', 'Super star', 'Adventure', 'Black world')\n"
     ]
    }
   ],
   "source": [
    "my_list = ['Spring', 'One day', 'Super star', 'Adventure', 'Black world']\n",
    "my_tuple = tuple(my_list)\n",
    "print(my_tuple)"
   ]
  },
  {
   "cell_type": "markdown",
   "id": "32226e58",
   "metadata": {},
   "source": [
    "###Check Element in a List\n",
    "Given a list of cities, check if \"Paris\" is in the list and print the result"
   ]
  },
  {
   "cell_type": "code",
   "execution_count": 12,
   "id": "9e0901c2",
   "metadata": {},
   "outputs": [
    {
     "data": {
      "text/plain": [
       "0"
      ]
     },
     "execution_count": 12,
     "metadata": {},
     "output_type": "execute_result"
    }
   ],
   "source": [
    "my_list = ['Paris', 'Russian', 'london', 'USA']\n",
    "my_list.index('Paris')"
   ]
  },
  {
   "cell_type": "markdown",
   "id": "bf197978",
   "metadata": {},
   "source": [
    "###Duplicate a List Without Using Loops\n",
    "Create a list of numbers and duplicate it without using loops."
   ]
  },
  {
   "cell_type": "code",
   "execution_count": 13,
   "id": "3f8c3bb9",
   "metadata": {},
   "outputs": [
    {
     "name": "stdout",
     "output_type": "stream",
     "text": [
      "[1, 2, 3, 4, 5, 6]\n"
     ]
    }
   ],
   "source": [
    "my_list = [1, 2, 3, 4, 5, 6]\n",
    "new_list = my_list.copy()\n",
    "print(new_list)"
   ]
  },
  {
   "cell_type": "markdown",
   "id": "166f8968",
   "metadata": {},
   "source": [
    "###Swap First and Last Elements of a List\n",
    "Given a list of numbers, swap the first and last elements."
   ]
  },
  {
   "cell_type": "code",
   "execution_count": 14,
   "id": "22a5836b",
   "metadata": {},
   "outputs": [
    {
     "name": "stdout",
     "output_type": "stream",
     "text": [
      "[6, 5, 4, 3, 2, 1]\n"
     ]
    }
   ],
   "source": [
    "my_list = [1, 2, 3, 4, 5, 6]\n",
    "my_list.reverse()\n",
    "print(my_list)"
   ]
  },
  {
   "cell_type": "markdown",
   "id": "0a799ce7",
   "metadata": {},
   "source": [
    "###Slice a Tuple\n",
    "Create a tuple of numbers from 1 to 10 and print a slice from index 3 to 7."
   ]
  },
  {
   "cell_type": "code",
   "execution_count": 15,
   "id": "c578bf99",
   "metadata": {},
   "outputs": [
    {
     "data": {
      "text/plain": [
       "[4, 5, 6, 7]"
      ]
     },
     "execution_count": 15,
     "metadata": {},
     "output_type": "execute_result"
    }
   ],
   "source": [
    "my_list = [1, 2, 3, 4, 5, 6, 7, 8, 9, 10]\n",
    "my_list [3:7]"
   ]
  },
  {
   "cell_type": "markdown",
   "id": "a3d75280",
   "metadata": {},
   "source": [
    "###Count Occurrences in a List\n",
    "Create a list of colors and count how many times \"blue\" appears in the list."
   ]
  },
  {
   "cell_type": "code",
   "execution_count": null,
   "id": "6bc0d958",
   "metadata": {},
   "outputs": [
    {
     "data": {
      "text/plain": [
       "1"
      ]
     },
     "execution_count": 17,
     "metadata": {},
     "output_type": "execute_result"
    }
   ],
   "source": [
    "my_list = ['blue', 'white', 'black', 'pink', 'brown', 'green']\n",
    "my_list.count('blue')\n"
   ]
  },
  {
   "cell_type": "markdown",
   "id": "ff84287b",
   "metadata": {},
   "source": [
    "###Find the Index of an Element in a Tuple\n",
    "Given a tuple of animals, find the index of \"lion\"."
   ]
  },
  {
   "cell_type": "code",
   "execution_count": 18,
   "id": "fcc8f647",
   "metadata": {},
   "outputs": [
    {
     "data": {
      "text/plain": [
       "0"
      ]
     },
     "execution_count": 18,
     "metadata": {},
     "output_type": "execute_result"
    }
   ],
   "source": [
    "my_list = ['lion', 'snake', 'dog', 'cat']\n",
    "my_list.index('lion')"
   ]
  },
  {
   "cell_type": "markdown",
   "id": "96c6f30c",
   "metadata": {},
   "source": [
    "###Merge Two Tuples\n",
    "Create two tuples of numbers and merge them into a single tuple."
   ]
  },
  {
   "cell_type": "code",
   "execution_count": 20,
   "id": "376b7cf5",
   "metadata": {},
   "outputs": [
    {
     "ename": "AttributeError",
     "evalue": "'tuple' object has no attribute 'copy'",
     "output_type": "error",
     "traceback": [
      "\u001b[1;31m---------------------------------------------------------------------------\u001b[0m",
      "\u001b[1;31mAttributeError\u001b[0m                            Traceback (most recent call last)",
      "Cell \u001b[1;32mIn[20], line 3\u001b[0m\n\u001b[0;32m      1\u001b[0m my_tuple \u001b[38;5;241m=\u001b[39m (\u001b[38;5;241m1\u001b[39m, \u001b[38;5;241m2\u001b[39m, \u001b[38;5;241m3\u001b[39m, \u001b[38;5;241m4\u001b[39m, \u001b[38;5;241m5\u001b[39m)\n\u001b[0;32m      2\u001b[0m my_tuple2 \u001b[38;5;241m=\u001b[39m (\u001b[38;5;241m6\u001b[39m, \u001b[38;5;241m7\u001b[39m, \u001b[38;5;241m8\u001b[39m, \u001b[38;5;241m9\u001b[39m)\n\u001b[1;32m----> 3\u001b[0m my_tuple \u001b[38;5;241m=\u001b[39m \u001b[43mmy_tuple2\u001b[49m\u001b[38;5;241;43m.\u001b[39;49m\u001b[43mcopy\u001b[49m()\n\u001b[0;32m      4\u001b[0m \u001b[38;5;28mprint\u001b[39m(my_tuple)\n",
      "\u001b[1;31mAttributeError\u001b[0m: 'tuple' object has no attribute 'copy'"
     ]
    }
   ],
   "source": [
    "my_tuple = (1, 2, 3, 4, 5)\n",
    "my_tuple2 = (6, 7, 8, 9)\n",
    "my_tuple = my_tuple2.copy()\n",
    "print(my_tuple)"
   ]
  },
  {
   "cell_type": "markdown",
   "id": "87070293",
   "metadata": {},
   "source": [
    "###Find the Length of a List and Tuple\n",
    "Given a list and a tuple, find and print their lengths."
   ]
  },
  {
   "cell_type": "code",
   "execution_count": 21,
   "id": "a1997542",
   "metadata": {},
   "outputs": [],
   "source": [
    "my_list = [10, 20, 30, 40, 50]\n",
    "my_tuple = (5, 15, 25)\n",
    "\n",
    "list_length = len(my_list)\n",
    "tuple_length = len(my_tuple)"
   ]
  },
  {
   "cell_type": "markdown",
   "id": "2e7904d1",
   "metadata": {},
   "source": [
    "###Convert Tuple to List\n",
    "Create a tuple of five numbers and convert it into a list."
   ]
  },
  {
   "cell_type": "code",
   "execution_count": 23,
   "id": "67bcfea3",
   "metadata": {},
   "outputs": [
    {
     "name": "stdout",
     "output_type": "stream",
     "text": [
      "[5, 15, 25]\n"
     ]
    }
   ],
   "source": [
    "my_tuple = (5, 15, 25)\n",
    "my_list = list(my_tuple)\n",
    "print(my_list)\n"
   ]
  },
  {
   "cell_type": "markdown",
   "id": "c30f730f",
   "metadata": {},
   "source": [
    "### Find Maximum and Minimum in a Tuple\n",
    "Given a tuple of numbers, find and print the maximum and minimum values."
   ]
  },
  {
   "cell_type": "code",
   "execution_count": 24,
   "id": "3fa02f13",
   "metadata": {},
   "outputs": [],
   "source": [
    "my_tuple = (5, 15, 25)\n",
    "print = max(my_tuple)\n",
    "print = min(my_tuple)"
   ]
  },
  {
   "cell_type": "markdown",
   "id": "e623119d",
   "metadata": {},
   "source": [
    "###Reverse a Tuple\n",
    "Create a tuple of words and print it in reverse order."
   ]
  },
  {
   "cell_type": "code",
   "execution_count": 26,
   "id": "4306cd0b",
   "metadata": {},
   "outputs": [
    {
     "ename": "TypeError",
     "evalue": "'int' object is not callable",
     "output_type": "error",
     "traceback": [
      "\u001b[1;31m---------------------------------------------------------------------------\u001b[0m",
      "\u001b[1;31mTypeError\u001b[0m                                 Traceback (most recent call last)",
      "Cell \u001b[1;32mIn[26], line 3\u001b[0m\n\u001b[0;32m      1\u001b[0m \u001b[38;5;28mtuple\u001b[39m \u001b[38;5;241m=\u001b[39m (\u001b[38;5;124m'\u001b[39m\u001b[38;5;124mword\u001b[39m\u001b[38;5;124m'\u001b[39m, \u001b[38;5;124m'\u001b[39m\u001b[38;5;124mpen\u001b[39m\u001b[38;5;124m'\u001b[39m, \u001b[38;5;124m'\u001b[39m\u001b[38;5;124mbook\u001b[39m\u001b[38;5;124m'\u001b[39m, \u001b[38;5;124m'\u001b[39m\u001b[38;5;124mtable\u001b[39m\u001b[38;5;124m'\u001b[39m)\n\u001b[0;32m      2\u001b[0m reversed_tuple \u001b[38;5;241m=\u001b[39m \u001b[38;5;28mtuple\u001b[39m[::\u001b[38;5;241m-\u001b[39m\u001b[38;5;241m1\u001b[39m]\n\u001b[1;32m----> 3\u001b[0m \u001b[38;5;28;43mprint\u001b[39;49m\u001b[43m(\u001b[49m\u001b[43mreversed_tuple\u001b[49m\u001b[43m)\u001b[49m\n",
      "\u001b[1;31mTypeError\u001b[0m: 'int' object is not callable"
     ]
    }
   ],
   "source": [
    "tuple = ('word', 'pen', 'book', 'table')\n",
    "reversed_tuple = tuple[::-1]\n",
    "print(reversed_tuple)"
   ]
  }
 ],
 "metadata": {
  "kernelspec": {
   "display_name": "Python 3",
   "language": "python",
   "name": "python3"
  },
  "language_info": {
   "codemirror_mode": {
    "name": "ipython",
    "version": 3
   },
   "file_extension": ".py",
   "mimetype": "text/x-python",
   "name": "python",
   "nbconvert_exporter": "python",
   "pygments_lexer": "ipython3",
   "version": "3.12.5"
  }
 },
 "nbformat": 4,
 "nbformat_minor": 5
}
