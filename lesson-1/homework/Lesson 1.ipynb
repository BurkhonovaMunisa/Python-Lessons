{
 "cells": [
  {
   "cell_type": "markdown",
   "id": "02afb3f5",
   "metadata": {},
   "source": [
    "Given a side of square. Find its perimeter and area."
   ]
  },
  {
   "cell_type": "code",
   "execution_count": 4,
   "id": "50e72ab1",
   "metadata": {},
   "outputs": [
    {
     "name": "stdout",
     "output_type": "stream",
     "text": [
      "According to your data, perimeter is 224 and area is 3136 of your square.\n"
     ]
    }
   ],
   "source": [
    "square = int(input('Please, enter side of square: '))\n",
    "perimeter = 4*square\n",
    "area = square * square\n",
    "print(f'According to your data, perimeter is {perimeter} and area is {area} of your square.')"
   ]
  },
  {
   "cell_type": "markdown",
   "id": "384528bb",
   "metadata": {},
   "source": [
    "Given diameter of circle. Find its length."
   ]
  },
  {
   "cell_type": "code",
   "execution_count": 6,
   "id": "5c56c7e7",
   "metadata": {},
   "outputs": [
    {
     "name": "stdout",
     "output_type": "stream",
     "text": [
      "Your length of the given diameter of circle is 175.92904.\n"
     ]
    }
   ],
   "source": [
    "circle = int(input('Please, enter side of diameter of circle: '))\n",
    "length = 3.14159 * circle\n",
    "print(f'Your length of the given diameter of circle is {length}.')"
   ]
  },
  {
   "cell_type": "markdown",
   "id": "b6a76dac",
   "metadata": {},
   "source": [
    "Given two numbers a and b. Find their mean."
   ]
  },
  {
   "cell_type": "code",
   "execution_count": 10,
   "id": "3413a66c",
   "metadata": {},
   "outputs": [
    {
     "name": "stdout",
     "output_type": "stream",
     "text": [
      "10.0\n"
     ]
    }
   ],
   "source": [
    "a=5\n",
    "b=15\n",
    "c=(a+b)/2\n",
    "print(c)"
   ]
  },
  {
   "cell_type": "markdown",
   "id": "a4d9977f",
   "metadata": {},
   "source": [
    "Given two numbers a and b. Find their sum, product and square of each number."
   ]
  },
  {
   "cell_type": "code",
   "execution_count": 12,
   "id": "16b8fef7",
   "metadata": {},
   "outputs": [
    {
     "name": "stdout",
     "output_type": "stream",
     "text": [
      "Sum is 20, Product is 75, Square of \"a\" is 25, Square of \"b\" is 225\n"
     ]
    }
   ],
   "source": [
    "a=5\n",
    "b=15\n",
    "sum = a+b\n",
    "product = a*b\n",
    "square_a = a**2\n",
    "square_b = b**2\n",
    "\n",
    "print(f'Sum is {sum}, Product is {product}, Square of \"a\" is {square_a}, Square of \"b\" is {square_b}')"
   ]
  }
 ],
 "metadata": {
  "kernelspec": {
   "display_name": "Python 3",
   "language": "python",
   "name": "python3"
  },
  "language_info": {
   "codemirror_mode": {
    "name": "ipython",
    "version": 3
   },
   "file_extension": ".py",
   "mimetype": "text/x-python",
   "name": "python",
   "nbconvert_exporter": "python",
   "pygments_lexer": "ipython3",
   "version": "3.12.5"
  }
 },
 "nbformat": 4,
 "nbformat_minor": 5
}
