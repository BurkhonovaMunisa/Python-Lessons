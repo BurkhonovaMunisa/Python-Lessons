{
 "cells": [
  {
   "cell_type": "code",
   "execution_count": null,
   "id": "bd744883",
   "metadata": {},
   "outputs": [
    {
     "name": "stdout",
     "output_type": "stream",
     "text": [
      "\n",
      "1) Add  2) Complete  3) List All  4) List Incomplete  0) Quit\n",
      "\n",
      "1) Add  2) Complete  3) List All  4) List Incomplete  0) Quit\n",
      "\n",
      "1) Add  2) Complete  3) List All  4) List Incomplete  0) Quit\n"
     ]
    }
   ],
   "source": [
    "from datetime import datetime\n",
    "\n",
    "class Task:\n",
    "    def __init__(self, title, description, due_date):\n",
    "        self.title = title\n",
    "        self.description = description\n",
    "        self.due_date = datetime.strptime(due_date, \"%Y-%m-%d\")\n",
    "        self.completed = False\n",
    "\n",
    "    def __str__(self):\n",
    "        status = \"✓\" if self.completed else \"✗\"\n",
    "        return f\"[{status}] {self.title} (due {self.due_date.date()})\"\n",
    "\n",
    "class ToDoList:\n",
    "    def __init__(self):\n",
    "        self.tasks = []\n",
    "\n",
    "    def add_task(self, title, desc, due):\n",
    "        self.tasks.append(Task(title, desc, due))\n",
    "\n",
    "    def complete_task(self, idx):\n",
    "        if 0 <= idx < len(self.tasks):\n",
    "            self.tasks[idx].completed = True\n",
    "\n",
    "    def list_all(self):\n",
    "        return [f\"{i}. {t}\" for i, t in enumerate(self.tasks)]\n",
    "\n",
    "    def list_incomplete(self):\n",
    "        return [f\"{i}. {t}\" for i, t in enumerate(self.tasks) if not t.completed]\n",
    "\n",
    "if __name__ == \"__main__\":\n",
    "    todo = ToDoList()\n",
    "    while True:\n",
    "        print(\"\\n1) Add  2) Complete  3) List All  4) List Incomplete  0) Quit\")\n",
    "        choice = input(\"Choose: \")\n",
    "        if choice == \"1\":\n",
    "            t = input(\"Title: \")\n",
    "            d = input(\"Description: \")\n",
    "            due = input(\"Due date (YYYY-MM-DD): \")\n",
    "            todo.add_task(t, d, due)\n",
    "        elif choice == \"2\":\n",
    "            idx = int(input(\"Task index: \"))\n",
    "            todo.complete_task(idx)\n",
    "        elif choice == \"3\":\n",
    "            print(\"\\n\".join(todo.list_all()) or \"No tasks.\")\n",
    "        elif choice == \"4\":\n",
    "            print(\"\\n\".join(todo.list_incomplete()) or \"All tasks completed.\")\n",
    "        elif choice == \"0\":\n",
    "            break"
   ]
  }
 ],
 "metadata": {
  "kernelspec": {
   "display_name": "Python 3",
   "language": "python",
   "name": "python3"
  },
  "language_info": {
   "codemirror_mode": {
    "name": "ipython",
    "version": 3
   },
   "file_extension": ".py",
   "mimetype": "text/x-python",
   "name": "python",
   "nbconvert_exporter": "python",
   "pygments_lexer": "ipython3",
   "version": "3.12.5"
  }
 },
 "nbformat": 4,
 "nbformat_minor": 5
}
