{
 "cells": [
  {
   "cell_type": "markdown",
   "id": "a5794a09",
   "metadata": {},
   "source": [
    "Age Calculator: Ask the user to enter their birthdate. Calculate and print their age in years, months, and days."
   ]
  },
  {
   "cell_type": "code",
   "execution_count": 3,
   "id": "5c7f58f8",
   "metadata": {},
   "outputs": [
    {
     "name": "stdout",
     "output_type": "stream",
     "text": [
      "Your age is: 27 years, 4 months, and 27 days.\n"
     ]
    }
   ],
   "source": [
    "from datetime import datetime\n",
    "from dateutil.relativedelta import relativedelta\n",
    "\n",
    "birth_input = input(\"Enter your birthdate (YYYY-MM-DD): \")\n",
    "birth_date = datetime.strptime(birth_input, \"%Y-%m-%d\")\n",
    "today = datetime.today()\n",
    "age = relativedelta(today, birth_date)\n",
    "\n",
    "\n",
    "print(f\"Your age is: {age.years} years, {age.months} months, and {age.days} days.\")\n"
   ]
  },
  {
   "cell_type": "markdown",
   "id": "bdf4a437",
   "metadata": {},
   "source": [
    "Days Until Next Birthday: Similar to the first exercise, but this time, calculate and print the number of days remaining until the user's next birthday."
   ]
  },
  {
   "cell_type": "code",
   "execution_count": 5,
   "id": "71c28f52",
   "metadata": {},
   "outputs": [
    {
     "name": "stdout",
     "output_type": "stream",
     "text": [
      "Your next birthday is in 217 day(s).\n"
     ]
    }
   ],
   "source": [
    "from datetime import datetime, timedelta\n",
    "\n",
    "birth_input = input(\"Enter your birthdate (YYYY-MM-DD): \")\n",
    "birth_date = datetime.strptime(birth_input, \"%Y-%m-%d\")\n",
    "\n",
    "today = datetime.today()\n",
    "\n",
    "this_year_birthday = birth_date.replace(year=today.year)\n",
    "\n",
    "if this_year_birthday < today:\n",
    "    next_birthday = this_year_birthday.replace(year=today.year + 1)\n",
    "else:\n",
    "    next_birthday = this_year_birthday\n",
    "\n",
    "days_remaining = (next_birthday - today).days\n",
    "\n",
    "print(f\"Your next birthday is in {days_remaining} day(s).\")"
   ]
  },
  {
   "cell_type": "markdown",
   "id": "043ff3aa",
   "metadata": {},
   "source": [
    "Meeting Scheduler: Ask the user to enter the current date and time, as well as the duration of a meeting in hours and minutes. Calculate and print the date and time when the meeting will end."
   ]
  },
  {
   "cell_type": "code",
   "execution_count": 7,
   "id": "02e20567",
   "metadata": {},
   "outputs": [
    {
     "name": "stdout",
     "output_type": "stream",
     "text": [
      "The meeting will end at: 2025-06-27 17:32\n"
     ]
    }
   ],
   "source": [
    "from datetime import datetime, timedelta\n",
    "\n",
    "current_input = input(\"Enter the current date and time (YYYY-MM-DD HH:MM): \")\n",
    "current_datetime = datetime.strptime(current_input, \"%Y-%m-%d %H:%M\")\n",
    "\n",
    "hours = int(input(\"Enter meeting duration - hours: \"))\n",
    "minutes = int(input(\"Enter meeting duration - minutes: \"))\n",
    "\n",
    "meeting_duration = timedelta(hours=hours, minutes=minutes)\n",
    "\n",
    "end_time = current_datetime + meeting_duration\n",
    "\n",
    "print(\"The meeting will end at:\", end_time.strftime(\"%Y-%m-%d %H:%M\"))"
   ]
  },
  {
   "cell_type": "markdown",
   "id": "f67af539",
   "metadata": {},
   "source": [
    "Countdown Timer: Implement a countdown timer. Ask the user to input a future date and time, and then continuously print the time remaining until that point in regular intervals (e.g., every second)."
   ]
  },
  {
   "cell_type": "code",
   "execution_count": null,
   "id": "2b81fc63",
   "metadata": {},
   "outputs": [],
   "source": [
    "import time\n",
    "from datetime import datetime\n",
    "\n",
    "future_input = input(\"Enter a future date and time (YYYY-MM-DD HH:MM:SS): \")\n",
    "future_datetime = datetime.strptime(future_input, \"%Y-%m-%d %H:%M:%S\")\n",
    "\n",
    "while True:\n",
    "    now = datetime.now()\n",
    "    remaining = future_datetime - now\n",
    "\n",
    "    if remaining.total_seconds() <= 0:\n",
    "        print(\"Time's up!\")\n",
    "        break\n",
    "\n",
    "    days = remaining.days\n",
    "    hours, rem = divmod(remaining.seconds, 3600)\n",
    "    minutes, seconds = divmod(rem, 60)\n",
    "\n",
    "    print(f\"Time remaining: {days}d {hours}h {minutes}m {seconds}s\", end=\"\\r\")\n",
    "    time.sleep(1)"
   ]
  },
  {
   "cell_type": "markdown",
   "id": "0bec3cec",
   "metadata": {},
   "source": [
    "Email Validator: Write a program that validates email addresses. Ask the user to input an email address, and check if it follows a valid email format."
   ]
  },
  {
   "cell_type": "code",
   "execution_count": 8,
   "id": "7c397545",
   "metadata": {},
   "outputs": [
    {
     "name": "stdout",
     "output_type": "stream",
     "text": [
      "Invalid email address.\n"
     ]
    }
   ],
   "source": [
    "import re\n",
    "\n",
    "email = input(\"Enter an email address: \")\n",
    "\n",
    "pattern = r'^[\\w\\.-]+@[\\w\\.-]+\\.\\w+$'\n",
    "\n",
    "if re.match(pattern, email):\n",
    "    print(\"Valid email address.\")\n",
    "else:\n",
    "    print(\"Invalid email address.\")"
   ]
  },
  {
   "cell_type": "markdown",
   "id": "875b6c40",
   "metadata": {},
   "source": [
    "Password Strength Checker: Implement a password strength checker. Ask the user to input a password and check if it meets certain criteria (e.g., minimum length, contains at least one uppercase letter, one lowercase letter, and one digit)."
   ]
  },
  {
   "cell_type": "code",
   "execution_count": null,
   "id": "2f42af30",
   "metadata": {},
   "outputs": [],
   "source": [
    "import re\n",
    "\n",
    "password = input(\"Enter your password: \")\n",
    "\n",
    "length_ok = len(password) >= 8\n",
    "has_upper = re.search(r'[A-Z]', password)\n",
    "has_lower = re.search(r'[a-z]', password)\n",
    "has_digit = re.search(r'[0-9]', password)\n",
    "\n",
    "if length_ok and has_upper and has_lower and has_digit:\n",
    "    print(\"Strong password.\")\n",
    "else:\n",
    "    print(\"Weak password. Make sure it has at least 8 characters, one uppercase letter, one lowercase letter, and one digit.\")"
   ]
  },
  {
   "cell_type": "markdown",
   "id": "1e7d7ea7",
   "metadata": {},
   "source": [
    "Word Finder: Develop a program that finds all occurrences of a specific word in a given text. Ask the user to input a word, and then search for and print all occurrences of that word in a sample text."
   ]
  },
  {
   "cell_type": "code",
   "execution_count": null,
   "id": "fd894dba",
   "metadata": {},
   "outputs": [],
   "source": [
    "import re\n",
    "\n",
    "text = \"\"\"\n",
    "Life is good\n",
    "\"\"\"\n",
    "\n",
    "word = input(\"Enter the word to search for: \")\n",
    "\n",
    "matches = re.findall(rf'\\b{re.escape(word)}\\b', text, re.IGNORECASE)\n",
    "\n",
    "if matches:\n",
    "    print(f\"The word '{word}' was found {len(matches)} time(s).\")\n",
    "else:\n",
    "    print(f\"The word '{word}' was not found.\")"
   ]
  },
  {
   "cell_type": "markdown",
   "id": "3348d150",
   "metadata": {},
   "source": [
    "Date Extractor: Write a program that extracts dates from a given text. Ask the user to input a text, and then identify and print all the dates present in the text."
   ]
  },
  {
   "cell_type": "code",
   "execution_count": null,
   "id": "239af18a",
   "metadata": {},
   "outputs": [],
   "source": [
    "import re\n",
    "\n",
    "text = input(\"Enter a text: \")\n",
    "\n",
    "date_pattern = r'\\b(?:\\d{1,2}[-/]\\d{1,2}[-/]\\d{2,4}|\\d{4}[-/]\\d{1,2}[-/]\\d{1,2})\\b'\n",
    "\n",
    "dates = re.findall(date_pattern, text)\n",
    "\n",
    "if dates:\n",
    "    print(\"Dates found in the text:\")\n",
    "    for date in dates:\n",
    "        print(date)\n",
    "else:\n",
    "    print(\"No dates found in the text.\")"
   ]
  }
 ],
 "metadata": {
  "kernelspec": {
   "display_name": "Python 3",
   "language": "python",
   "name": "python3"
  },
  "language_info": {
   "codemirror_mode": {
    "name": "ipython",
    "version": 3
   },
   "file_extension": ".py",
   "mimetype": "text/x-python",
   "name": "python",
   "nbconvert_exporter": "python",
   "pygments_lexer": "ipython3",
   "version": "3.12.5"
  }
 },
 "nbformat": 4,
 "nbformat_minor": 5
}
