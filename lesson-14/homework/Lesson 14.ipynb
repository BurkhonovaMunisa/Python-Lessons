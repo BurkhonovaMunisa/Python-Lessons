{
 "cells": [
  {
   "cell_type": "markdown",
   "id": "76814e48",
   "metadata": {},
   "source": [
    "Task: JSON Parsing\n",
    "write a Python script that reads the students.jon JSON file and prints details of each student."
   ]
  },
  {
   "cell_type": "code",
   "execution_count": 1,
   "id": "b4c5c98a",
   "metadata": {},
   "outputs": [
    {
     "ename": "FileNotFoundError",
     "evalue": "[Errno 2] No such file or directory: 'students.json'",
     "output_type": "error",
     "traceback": [
      "\u001b[1;31m---------------------------------------------------------------------------\u001b[0m",
      "\u001b[1;31mFileNotFoundError\u001b[0m                         Traceback (most recent call last)",
      "Cell \u001b[1;32mIn[1], line 3\u001b[0m\n\u001b[0;32m      1\u001b[0m \u001b[38;5;28;01mimport\u001b[39;00m \u001b[38;5;21;01mjson\u001b[39;00m\n\u001b[1;32m----> 3\u001b[0m \u001b[38;5;28;01mwith\u001b[39;00m \u001b[38;5;28;43mopen\u001b[39;49m\u001b[43m(\u001b[49m\u001b[38;5;124;43m'\u001b[39;49m\u001b[38;5;124;43mstudents.json\u001b[39;49m\u001b[38;5;124;43m'\u001b[39;49m\u001b[43m,\u001b[49m\u001b[43m \u001b[49m\u001b[38;5;124;43m'\u001b[39;49m\u001b[38;5;124;43mr\u001b[39;49m\u001b[38;5;124;43m'\u001b[39;49m\u001b[43m)\u001b[49m \u001b[38;5;28;01mas\u001b[39;00m file:\n\u001b[0;32m      4\u001b[0m     data \u001b[38;5;241m=\u001b[39m json\u001b[38;5;241m.\u001b[39mload(file)\n\u001b[0;32m      6\u001b[0m \u001b[38;5;28;01mfor\u001b[39;00m student \u001b[38;5;129;01min\u001b[39;00m data:\n",
      "File \u001b[1;32m~\\AppData\\Roaming\\Python\\Python312\\site-packages\\IPython\\core\\interactiveshell.py:324\u001b[0m, in \u001b[0;36m_modified_open\u001b[1;34m(file, *args, **kwargs)\u001b[0m\n\u001b[0;32m    317\u001b[0m \u001b[38;5;28;01mif\u001b[39;00m file \u001b[38;5;129;01min\u001b[39;00m {\u001b[38;5;241m0\u001b[39m, \u001b[38;5;241m1\u001b[39m, \u001b[38;5;241m2\u001b[39m}:\n\u001b[0;32m    318\u001b[0m     \u001b[38;5;28;01mraise\u001b[39;00m \u001b[38;5;167;01mValueError\u001b[39;00m(\n\u001b[0;32m    319\u001b[0m         \u001b[38;5;124mf\u001b[39m\u001b[38;5;124m\"\u001b[39m\u001b[38;5;124mIPython won\u001b[39m\u001b[38;5;124m'\u001b[39m\u001b[38;5;124mt let you open fd=\u001b[39m\u001b[38;5;132;01m{\u001b[39;00mfile\u001b[38;5;132;01m}\u001b[39;00m\u001b[38;5;124m by default \u001b[39m\u001b[38;5;124m\"\u001b[39m\n\u001b[0;32m    320\u001b[0m         \u001b[38;5;124m\"\u001b[39m\u001b[38;5;124mas it is likely to crash IPython. If you know what you are doing, \u001b[39m\u001b[38;5;124m\"\u001b[39m\n\u001b[0;32m    321\u001b[0m         \u001b[38;5;124m\"\u001b[39m\u001b[38;5;124myou can use builtins\u001b[39m\u001b[38;5;124m'\u001b[39m\u001b[38;5;124m open.\u001b[39m\u001b[38;5;124m\"\u001b[39m\n\u001b[0;32m    322\u001b[0m     )\n\u001b[1;32m--> 324\u001b[0m \u001b[38;5;28;01mreturn\u001b[39;00m \u001b[43mio_open\u001b[49m\u001b[43m(\u001b[49m\u001b[43mfile\u001b[49m\u001b[43m,\u001b[49m\u001b[43m \u001b[49m\u001b[38;5;241;43m*\u001b[39;49m\u001b[43margs\u001b[49m\u001b[43m,\u001b[49m\u001b[43m \u001b[49m\u001b[38;5;241;43m*\u001b[39;49m\u001b[38;5;241;43m*\u001b[39;49m\u001b[43mkwargs\u001b[49m\u001b[43m)\u001b[49m\n",
      "\u001b[1;31mFileNotFoundError\u001b[0m: [Errno 2] No such file or directory: 'students.json'"
     ]
    }
   ],
   "source": [
    "import json\n",
    "\n",
    "with open('students.json', 'r') as file:\n",
    "    data = json.load(file)\n",
    "\n",
    "for student in data:\n",
    "    print(\"Student Details:\")\n",
    "    for key, value in student.items():\n",
    "        print(f\"{key}: {value}\")\n",
    "    print(\"-\" * 30)"
   ]
  },
  {
   "cell_type": "markdown",
   "id": "31a97574",
   "metadata": {},
   "source": [
    "Task: Weather API\n",
    "Use this url : https://openweathermap.org/\n",
    "Use the requests library to fetch weather data for a specific city(ex. your hometown: Tashkent) and print relevant information (temperature, humidity, etc.)."
   ]
  },
  {
   "cell_type": "code",
   "execution_count": null,
   "id": "479d9700",
   "metadata": {},
   "outputs": [],
   "source": [
    "import requests\n",
    "\n",
    "API_KEY = 'your_api_key_here'\n",
    "CITY = 'Tashkent'\n",
    "URL = f'https://api.openweathermap.org/data/2.5/weather?q={CITY}&appid={API_KEY}&units=metric'\n",
    "\n",
    "response = requests.get(URL)\n",
    "\n",
    "if response.status_code == 200:\n",
    "    data = response.json()\n",
    "    temperature = data['main']['temp']\n",
    "    humidity = data['main']['humidity']\n",
    "    description = data['weather'][0]['description']\n",
    "    wind_speed = data['wind']['speed']\n",
    "\n",
    "    print(f\"Weather in {CITY}:\")\n",
    "    print(f\"Temperature: {temperature}°C\")\n",
    "    print(f\"Humidity: {humidity}%\")\n",
    "    print(f\"Condition: {description.capitalize()}\")\n",
    "    print(f\"Wind Speed: {wind_speed} m/s\")\n",
    "else:\n",
    "    print(\"Failed to retrieve weather data:\", response.status_code)"
   ]
  },
  {
   "cell_type": "markdown",
   "id": "b2711d9e",
   "metadata": {},
   "source": [
    "Task: JSON Modification\n",
    "Write a program that allows users to add new books, update existing book information, and delete books from the books.json JSON file."
   ]
  },
  {
   "cell_type": "code",
   "execution_count": 2,
   "id": "adc737a6",
   "metadata": {},
   "outputs": [
    {
     "data": {
      "text/plain": [
       "[{'id': 1, 'title': 'Python Basics', 'author': 'John Doe', 'year': 2020},\n",
       " {'id': 2,\n",
       "  'title': 'Data Science Intro',\n",
       "  'author': 'Jane Smith',\n",
       "  'year': 2021}]"
      ]
     },
     "execution_count": 2,
     "metadata": {},
     "output_type": "execute_result"
    }
   ],
   "source": [
    "[\n",
    "    {\n",
    "        \"id\": 1,\n",
    "        \"title\": \"Python Basics\",\n",
    "        \"author\": \"John Doe\",\n",
    "        \"year\": 2020\n",
    "    },\n",
    "    {\n",
    "        \"id\": 2,\n",
    "        \"title\": \"Data Science Intro\",\n",
    "        \"author\": \"Jane Smith\",\n",
    "        \"year\": 2021\n",
    "    }\n",
    "]\n"
   ]
  }
 ],
 "metadata": {
  "kernelspec": {
   "display_name": "Python 3",
   "language": "python",
   "name": "python3"
  },
  "language_info": {
   "codemirror_mode": {
    "name": "ipython",
    "version": 3
   },
   "file_extension": ".py",
   "mimetype": "text/x-python",
   "name": "python",
   "nbconvert_exporter": "python",
   "pygments_lexer": "ipython3",
   "version": "3.12.5"
  }
 },
 "nbformat": 4,
 "nbformat_minor": 5
}
