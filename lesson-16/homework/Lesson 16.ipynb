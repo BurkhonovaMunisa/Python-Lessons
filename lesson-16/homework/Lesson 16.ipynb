{
 "cells": [
  {
   "cell_type": "markdown",
   "id": "31934eff",
   "metadata": {},
   "source": [
    "Convert List to 1D Array\n",
    "Write a NumPy program to convert a list of numeric values into a one-dimensional NumPy array.\n",
    "\n",
    "Expected Output:\n",
    "\n",
    "Original List: [12.23, 13.32, 100, 36.32] One-dimensional NumPy array: [ 12.23 13.32 100. 36.32]"
   ]
  },
  {
   "cell_type": "code",
   "execution_count": null,
   "id": "e4c07867",
   "metadata": {},
   "outputs": [],
   "source": [
    "import numpy as np\n",
    "\n",
    "list_values = [12.23, 13.32, 100, 36.32]\n",
    "\n",
    "array_1d = np.array(list_values)\n",
    "\n",
    "print(\"Original List:\", list_values)\n",
    "print(\"One-dimensional NumPy array:\", array_1d)"
   ]
  },
  {
   "cell_type": "markdown",
   "id": "4940805f",
   "metadata": {},
   "source": [
    "Create 3x3 Matrix (2?10)\n",
    "Write a NumPy program to create a 3x3 matrix with values ranging from 2 to 10.\n",
    "\n",
    "Expected Output:\n",
    "\n",
    "[[ 2 3 4] [ 5 6 7] [ 8 9 10]]"
   ]
  },
  {
   "cell_type": "code",
   "execution_count": null,
   "id": "9c4a65d6",
   "metadata": {},
   "outputs": [],
   "source": [
    "import numpy as np\n",
    "\n",
    "matrix = np.arange(2, 11).reshape(3, 3)\n",
    "\n",
    "print(matrix)"
   ]
  },
  {
   "cell_type": "code",
   "execution_count": null,
   "id": "624ac3a8",
   "metadata": {},
   "outputs": [],
   "source": [
    " Null Vector (10) & Update Sixth Value\n",
    "Write a NumPy program to create a null vector of size 10 and update the sixth value to 11.\n",
    "\n",
    "[ 0. 0. 0. 0. 0. 0. 0. 0. 0. 0.]\n",
    "\n",
    "Update sixth value to 11 [ 0. 0. 0. 0. 0. 0. 11. 0. 0. 0.]"
   ]
  },
  {
   "cell_type": "code",
   "execution_count": null,
   "id": "3ff9a569",
   "metadata": {},
   "outputs": [],
   "source": [
    "import numpy as np\n",
    "\n",
    "vector = np.zeros(10)\n",
    "print(\"Original vector:\", vector)\n",
    "\n",
    "vector[6] = 11\n",
    "print(\"Updated vector:\", vector)"
   ]
  },
  {
   "cell_type": "markdown",
   "id": "46589f75",
   "metadata": {},
   "source": [
    "Array from 12 to 38\n",
    "Write a NumPy program to create an array with values ranging from 12 to 38.\n",
    "\n",
    "Expected Output:\n",
    "\n",
    "[12 13 14 15 16 17 18 19 20 21 22 23 24 25 26 27 28 29 30 31 32 33 34 35 36 37]"
   ]
  },
  {
   "cell_type": "code",
   "execution_count": null,
   "id": "c0e7023c",
   "metadata": {},
   "outputs": [],
   "source": [
    "import numpy as np\n",
    "\n",
    "array = np.arange(12, 38)\n",
    "\n",
    "print(array)"
   ]
  },
  {
   "cell_type": "markdown",
   "id": "54d6f495",
   "metadata": {},
   "source": [
    " Convert Array to Float Type\n",
    "Write a NumPy program to convert an array to a floating type.\n",
    "\n",
    "Sample output:\n",
    "\n",
    "Original array [1, 2, 3, 4]"
   ]
  },
  {
   "cell_type": "code",
   "execution_count": null,
   "id": "4a909438",
   "metadata": {},
   "outputs": [],
   "source": [
    "import numpy as np\n",
    "\n",
    "arr = np.array([1, 2, 3, 4])\n",
    "print(\"Original array:\", arr)\n",
    "\n",
    "float_arr = arr.astype(float)\n",
    "print(\"Array converted to float:\", float_arr)"
   ]
  },
  {
   "cell_type": "markdown",
   "id": "6a85a3be",
   "metadata": {},
   "source": [
    "Append Values to Array (Do self-tudy)\n",
    "Write a NumPy program to append values to the end of an array.\n",
    "\n",
    "Expected Output:\n",
    "\n",
    "Original array: [10, 20, 30]\n",
    "\n",
    "After append values to the end of the array: [10 20 30 40 50 60 70 80 90]"
   ]
  },
  {
   "cell_type": "code",
   "execution_count": null,
   "id": "75a53f81",
   "metadata": {},
   "outputs": [],
   "source": [
    "arr = np.array([10, 20, 30])\n",
    "print(\"Original array:\", arr)\n",
    "\n",
    "values_to_append = [40, 50, 60, 70, 80, 90]\n",
    "\n",
    "new_arr = np.append(arr, values_to_append)\n",
    "print(\"After append values to the end of the array:\", new_arr)"
   ]
  },
  {
   "cell_type": "markdown",
   "id": "1de54ecd",
   "metadata": {},
   "source": [
    "Array Statistical Functions (Do self-tudy)\n",
    "Create a random NumPy array of 10 elements and calculate the mean, median, and standard deviation of the array."
   ]
  },
  {
   "cell_type": "code",
   "execution_count": null,
   "id": "5b77756e",
   "metadata": {},
   "outputs": [],
   "source": [
    "import numpy as np\n",
    "\n",
    "arr = np.random.randint(0, 101, size=10)\n",
    "\n",
    "print(\"Random array:\", arr)"
   ]
  },
  {
   "cell_type": "markdown",
   "id": "1734aab3",
   "metadata": {},
   "source": [
    "Find min and max\n",
    "Create a 10x10 array with random values and find the minimum and maximum values.\n",
    "\n"
   ]
  },
  {
   "cell_type": "code",
   "execution_count": null,
   "id": "7bc9e0af",
   "metadata": {},
   "outputs": [],
   "source": [
    "arr = np.random.randint(0, 101, size=(10, 10))\n",
    "\n",
    "print(\"Random 10x10 array:\\n\", arr)\n",
    "\n",
    "min_val = np.min(arr)\n",
    "max_val = np.max(arr)\n",
    "\n",
    "print(\"Minimum value:\", min_val)\n",
    "print(\"Maximum value:\", max_val)"
   ]
  },
  {
   "cell_type": "markdown",
   "id": "50a62b63",
   "metadata": {},
   "source": [
    "Create a 3x3x3 array with random values."
   ]
  },
  {
   "cell_type": "code",
   "execution_count": null,
   "id": "e67bb51c",
   "metadata": {},
   "outputs": [],
   "source": [
    "import numpy as np\n",
    "\n",
    "array_3d = np.random.rand(3, 3, 3)\n",
    "\n",
    "print(\"3x3x3 Random Array:\")\n",
    "print(array_3d)"
   ]
  }
 ],
 "metadata": {
  "language_info": {
   "name": "python"
  }
 },
 "nbformat": 4,
 "nbformat_minor": 5
}
