{
 "cells": [
  {
   "cell_type": "code",
   "execution_count": null,
   "id": "0de63ac2",
   "metadata": {},
   "outputs": [],
   "source": [
    "#Age Calculator. \n",
    "#Write a Python program to ask for a user's name and year of birth, then calculate and display their age."
   ]
  },
  {
   "cell_type": "code",
   "execution_count": 6,
   "id": "4c5a0f5e",
   "metadata": {},
   "outputs": [
    {
     "name": "stdout",
     "output_type": "stream",
     "text": [
      "Ali, You are 20 years old!\n"
     ]
    }
   ],
   "source": [
    "name = input('Write your name: ')\n",
    "year = int(input('Year of your birth: '))\n",
    "age = 2025-year\n",
    "print(f'{name}, You are {age} years old!')"
   ]
  },
  {
   "cell_type": "markdown",
   "id": "7c98ee28",
   "metadata": {},
   "source": [
    "#Extract Car Names\n",
    "#Extract car names from the following text:\n",
    "\n"
   ]
  },
  {
   "cell_type": "code",
   "execution_count": 17,
   "id": "b93c5261",
   "metadata": {},
   "outputs": [
    {
     "name": "stdout",
     "output_type": "stream",
     "text": [
      "Malibu\n",
      "Lasett\n"
     ]
    }
   ],
   "source": [
    "txt = 'LMaasleitbtui'\n",
    "GM = txt[1] + txt[2] + txt[5] + txt[7] + txt[9] + txt[11]\n",
    "print(GM)\n",
    "\n",
    "GM1 = txt[0] + txt[2] + txt[4] + txt[6] + txt[8] + txt[10]\n",
    "print(GM1)\n"
   ]
  },
  {
   "cell_type": "markdown",
   "id": "fe0a53ca",
   "metadata": {},
   "source": [
    "##Extract Car Names\n",
    "Extract car names from the following text:\n",
    "\n"
   ]
  },
  {
   "cell_type": "code",
   "execution_count": 19,
   "id": "a7fd03ae",
   "metadata": {},
   "outputs": [
    {
     "name": "stdout",
     "output_type": "stream",
     "text": [
      "Matiz\n"
     ]
    }
   ],
   "source": [
    "txt = 'MsaatmiazD'\n",
    "Car = txt[0] + txt[2] + txt[4] + txt[6] + txt[8]\n",
    "print(Car)"
   ]
  },
  {
   "cell_type": "markdown",
   "id": "b4ee7de4",
   "metadata": {},
   "source": [
    "##Extract Residence Area\n",
    "Extract the residence area from the following text:\n"
   ]
  },
  {
   "cell_type": "code",
   "execution_count": 24,
   "id": "d999222d",
   "metadata": {},
   "outputs": [
    {
     "name": "stdout",
     "output_type": "stream",
     "text": [
      " London\n"
     ]
    }
   ],
   "source": [
    "\n",
    "txt = \"I'am John. I am from London\"\n",
    "RA= txt[20:27]\n",
    "print(RA)"
   ]
  },
  {
   "cell_type": "markdown",
   "id": "efdf9d85",
   "metadata": {},
   "source": [
    "##Reverse String\n",
    "Write a Python program that takes a user input string and prints it in reverse order."
   ]
  },
  {
   "cell_type": "code",
   "execution_count": null,
   "id": "c27ab734",
   "metadata": {},
   "outputs": [],
   "source": [
    "Reverse String\n",
    "Write a Python program that takes a user input string and prints it in reverse order."
   ]
  },
  {
   "cell_type": "code",
   "execution_count": 26,
   "id": "f1028767",
   "metadata": {},
   "outputs": [
    {
     "name": "stdout",
     "output_type": "stream",
     "text": [
      "asinum\n"
     ]
    }
   ],
   "source": [
    "word = input('write anything in string: ')\n",
    "word_reversed = word[::-1]\n",
    "print(word_reversed)"
   ]
  },
  {
   "cell_type": "markdown",
   "id": "d2bd8b8e",
   "metadata": {},
   "source": [
    "Count Vowels\n",
    "Write a Python program that counts the number of vowels in a given string."
   ]
  },
  {
   "cell_type": "code",
   "execution_count": null,
   "id": "f052f40a",
   "metadata": {},
   "outputs": [],
   "source": [
    "word = input('write anything in string: ')\n",
    "wovels= word.\n",
    "\n",
    "I cant solve this"
   ]
  },
  {
   "cell_type": "markdown",
   "id": "25a9b22c",
   "metadata": {},
   "source": [
    "Find Maximum Value\n",
    "Write a Python program that takes a list of numbers as input and prints the maximum value."
   ]
  },
  {
   "cell_type": "code",
   "execution_count": 30,
   "id": "15fef163",
   "metadata": {},
   "outputs": [
    {
     "name": "stdout",
     "output_type": "stream",
     "text": [
      "6\n"
     ]
    }
   ],
   "source": [
    "number = input('write anything in number: ')\n",
    "numbers_given=[int(num.strip()) for num in number.split(',')]\n",
    "\n",
    "max_value = max(numbers_given)\n",
    "print(max_value)"
   ]
  },
  {
   "cell_type": "markdown",
   "id": "1cf4f84a",
   "metadata": {},
   "source": [
    " Check Palindrome\n",
    "Write a Python program that checks if a given word is a palindrome (reads the same forward and backward)."
   ]
  },
  {
   "cell_type": "markdown",
   "id": "d09a0a20",
   "metadata": {},
   "source": [
    "Write a Python program that extracts and prints the domain from an email address provided by the user."
   ]
  },
  {
   "cell_type": "code",
   "execution_count": 34,
   "id": "f68aac84",
   "metadata": {},
   "outputs": [
    {
     "name": "stdout",
     "output_type": "stream",
     "text": [
      "Domen: vg\n"
     ]
    }
   ],
   "source": [
    "\n",
    "\n",
    "email = input(\"Emailni kiriting: \")\n",
    "\n",
    "try:\n",
    "    domain = email.split('@')[1]\n",
    "    print(\"Domen:\", domain)\n",
    "except IndexError:\n",
    "    print(\"Hato email manzil kiritildi.\")"
   ]
  },
  {
   "cell_type": "markdown",
   "id": "e4661e16",
   "metadata": {},
   "source": [
    "Generate Random Password\n",
    "Write a Python program to generate a random password containing letters, digits, and special characters."
   ]
  },
  {
   "cell_type": "code",
   "execution_count": null,
   "id": "c74ebe22",
   "metadata": {},
   "outputs": [],
   "source": [
    "I couldnt solve this"
   ]
  }
 ],
 "metadata": {
  "kernelspec": {
   "display_name": "Python 3",
   "language": "python",
   "name": "python3"
  },
  "language_info": {
   "codemirror_mode": {
    "name": "ipython",
    "version": 3
   },
   "file_extension": ".py",
   "mimetype": "text/x-python",
   "name": "python",
   "nbconvert_exporter": "python",
   "pygments_lexer": "ipython3",
   "version": "3.12.5"
  }
 },
 "nbformat": 4,
 "nbformat_minor": 5
}
