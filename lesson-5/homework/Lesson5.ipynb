{
 "cells": [
  {
   "cell_type": "markdown",
   "id": "fa1b66a5",
   "metadata": {},
   "source": [
    "\n",
    "def is_leap(year): \"\"\" Determines whether a given year is a leap year.\n",
    "\n",
    "A year is a leap year if:\n",
    "- It is divisible by 4, and\n",
    "- It is NOT divisible by 100, unless it is also divisible by 400.\n",
    "\n",
    "Parameters:\n",
    "year (int): The year to be checked.\n",
    "\n",
    "Returns:\n",
    "bool: True if the year is a leap year, False otherwise.\n",
    "\"\"\"\n",
    "if not isinstance(year, int):\n",
    "    raise ValueError(\"Year must be an integer.\")\n",
    "\n",
    "return (year % 4 == 0 and year % 100 != 0) or (year % 400 == 0)"
   ]
  },
  {
   "cell_type": "code",
   "execution_count": 2,
   "id": "9d61eb3e",
   "metadata": {},
   "outputs": [
    {
     "name": "stdout",
     "output_type": "stream",
     "text": [
      "This is not a leap year\n"
     ]
    }
   ],
   "source": [
    "year = int(input('Enter year: '))\n",
    "if year % 4 == 0 and year % 100 != 0:\n",
    "    print('This is a leap year')\n",
    "else:\n",
    "    print('This is not a leap year')\n",
    "\n"
   ]
  },
  {
   "cell_type": "markdown",
   "id": "06cc2f4f",
   "metadata": {},
   "source": [
    "Conditional Statements Exercise\n",
    "Given an integer, n, perform the following conditional actions:\n",
    "\n",
    "If n is odd, print Weird\n",
    "If n is even and in the inclusive range of 2 to 5, print Not Weird\n",
    "If n is even and in the inclusive range of 6 to 20, print Weird\n",
    "If n is even and greater than 20, print Not Weird\n"
   ]
  },
  {
   "cell_type": "code",
   "execution_count": 8,
   "id": "64567e73",
   "metadata": {},
   "outputs": [
    {
     "name": "stdout",
     "output_type": "stream",
     "text": [
      "Weird\n"
     ]
    }
   ],
   "source": [
    "number = int(input('Enter number: '))\n",
    "\n",
    "if number % 2 != 0:\n",
    "    print('Weird')\n",
    "if number % 2 == 0 and number in [2, 3, 4, 5]:\n",
    "    print('Not Weird')\n",
    "if number % 2 == 0 and number in [6,7,8,9,10,11,12,13,14,15,16,17,18,19,20]:\n",
    "    print('Weird')\n",
    "if number % 2 == 0 and number > 20:\n",
    "    print('Not Weird')"
   ]
  },
  {
   "cell_type": "markdown",
   "id": "c74c19ff",
   "metadata": {},
   "source": [
    "Input Format\n",
    "A single line containing a positive integer, n."
   ]
  },
  {
   "cell_type": "code",
   "execution_count": 17,
   "id": "72f49c85",
   "metadata": {},
   "outputs": [
    {
     "name": "stdout",
     "output_type": "stream",
     "text": [
      "You entered: 4\n"
     ]
    }
   ],
   "source": [
    "number = int(input('Enter a positive number: '))\n",
    "print('You entered:', number)"
   ]
  },
  {
   "cell_type": "markdown",
   "id": "576a7f41",
   "metadata": {},
   "source": [
    "Constraints\n",
    "1 <= n <= 100"
   ]
  },
  {
   "cell_type": "code",
   "execution_count": 19,
   "id": "cad45e38",
   "metadata": {},
   "outputs": [
    {
     "name": "stdout",
     "output_type": "stream",
     "text": [
      "You entered invalid number\n"
     ]
    }
   ],
   "source": [
    "number =int(input('Enter number from 1 to 100: '))\n",
    "if 1<= number <= 100:\n",
    "    print('You entered correct number')\n",
    "else:\n",
    "    print('You entered invalid number')"
   ]
  },
  {
   "cell_type": "markdown",
   "id": "d7df143c",
   "metadata": {},
   "source": [
    "Given two integer numbers a and b. Find even numbers between this numbers. a and b are inclusive. Don't use loop.\n",
    "Give two solutions.\n",
    "\n",
    "Solution 1 with if-else statement.\n",
    "\n",
    "Solution 2 without if-else statement."
   ]
  },
  {
   "cell_type": "code",
   "execution_count": null,
   "id": "3244466e",
   "metadata": {},
   "outputs": [],
   "source": [
    "couldnt solve it"
   ]
  }
 ],
 "metadata": {
  "kernelspec": {
   "display_name": "Python 3",
   "language": "python",
   "name": "python3"
  },
  "language_info": {
   "codemirror_mode": {
    "name": "ipython",
    "version": 3
   },
   "file_extension": ".py",
   "mimetype": "text/x-python",
   "name": "python",
   "nbconvert_exporter": "python",
   "pygments_lexer": "ipython3",
   "version": "3.12.5"
  }
 },
 "nbformat": 4,
 "nbformat_minor": 5
}
