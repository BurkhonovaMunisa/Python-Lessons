{
 "cells": [
  {
   "cell_type": "markdown",
   "id": "6a5a6a71",
   "metadata": {},
   "source": [
    "1. is_prime(n) funksiyasi\n",
    "is_prime(n) funksiyasini hosil qiling (n > 0). Agar n soni tub bo'lsa True, aks holda False qiymat qaytarsin."
   ]
  },
  {
   "cell_type": "code",
   "execution_count": 10,
   "id": "37fc2885",
   "metadata": {},
   "outputs": [],
   "source": [
    "def is_prime(n):\n",
    "    if n < 2:\n",
    "        return False  \n",
    "\n",
    "    for i in range(2, int(n ** 0.5) + 1):\n",
    "        if n % i == 0:  \n",
    "            return False \n",
    "    else: \n",
    "        return True  \n",
    "    \n",
    "    is_prime(85)"
   ]
  },
  {
   "cell_type": "markdown",
   "id": "0976b3d9",
   "metadata": {},
   "source": [
    " digit_sum(k) funksiyasi\n",
    "digit_sum(k) funksiyasini yozing, u k sonining raqamlari yig'indisini hisoblaydi."
   ]
  },
  {
   "cell_type": "code",
   "execution_count": 8,
   "id": "aded002b",
   "metadata": {},
   "outputs": [
    {
     "data": {
      "text/plain": [
       "17"
      ]
     },
     "execution_count": 8,
     "metadata": {},
     "output_type": "execute_result"
    }
   ],
   "source": [
    "def digit_num(k):\n",
    "    total = 0\n",
    "    while k>0:\n",
    "        total = total + k%10\n",
    "        k //= 10\n",
    "    return total\n",
    "\n",
    "digit_num(854)"
   ]
  },
  {
   "cell_type": "markdown",
   "id": "6960aa72",
   "metadata": {},
   "source": [
    " Ikki sonning darajalari\n",
    "Berilgan N sonidan oshmaydigan barcha 2 ning darajalarini (ya'ni, 2**k shaklidagi sonlarni) chop etuvchi funksiyani yozing."
   ]
  },
  {
   "cell_type": "code",
   "execution_count": 12,
   "id": "511d323a",
   "metadata": {},
   "outputs": [
    {
     "name": "stdout",
     "output_type": "stream",
     "text": [
      "1\n",
      "2\n",
      "4\n",
      "8\n"
     ]
    }
   ],
   "source": [
    "def power_of_two(N):\n",
    "    k=0\n",
    "\n",
    "    while 2**k <=N:\n",
    "        print(2**k)\n",
    "        k=k+1\n",
    "\n",
    "power_of_two(10)\n"
   ]
  },
  {
   "cell_type": "code",
   "execution_count": null,
   "id": "dddbf1e3",
   "metadata": {},
   "outputs": [],
   "source": []
  }
 ],
 "metadata": {
  "kernelspec": {
   "display_name": "Python 3",
   "language": "python",
   "name": "python3"
  },
  "language_info": {
   "codemirror_mode": {
    "name": "ipython",
    "version": 3
   },
   "file_extension": ".py",
   "mimetype": "text/x-python",
   "name": "python",
   "nbconvert_exporter": "python",
   "pygments_lexer": "ipython3",
   "version": "3.12.5"
  }
 },
 "nbformat": 4,
 "nbformat_minor": 5
}
