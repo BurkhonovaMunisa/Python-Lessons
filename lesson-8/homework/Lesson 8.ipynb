{
 "cells": [
  {
   "cell_type": "markdown",
   "id": "2e67f04c",
   "metadata": {},
   "source": [
    "### Python Exception Handling: Exercises, Solutions, and Practice"
   ]
  },
  {
   "cell_type": "markdown",
   "id": "cc0bffb6",
   "metadata": {},
   "source": [
    "1. Write a Python program to handle a ZeroDivisionError exception when dividing a number by zero."
   ]
  },
  {
   "cell_type": "code",
   "execution_count": 7,
   "id": "8d806588",
   "metadata": {},
   "outputs": [
    {
     "name": "stdout",
     "output_type": "stream",
     "text": [
      "ZeroDivisionError has occured\n"
     ]
    }
   ],
   "source": [
    "try:\n",
    "    \n",
    "    total_salary = int(input('Enter total salary: '))\n",
    "\n",
    "    monthly_expenses = 100 / total_salary\n",
    "\n",
    "    print(f'According to your total salary: {total_salary}, your monthly_expenses is: {monthly_expenses}')\n",
    "\n",
    "except ZeroDivisionError: \n",
    "    print('ZeroDivisionError has occured')\n"
   ]
  },
  {
   "cell_type": "markdown",
   "id": "22b530f8",
   "metadata": {},
   "source": [
    "2. Write a Python program that prompts the user to input an integer and raises a ValueError exception if the input is not a valid integer."
   ]
  },
  {
   "cell_type": "code",
   "execution_count": 11,
   "id": "4ae6f823",
   "metadata": {},
   "outputs": [
    {
     "name": "stdout",
     "output_type": "stream",
     "text": [
      "ValueError has occured\n"
     ]
    }
   ],
   "source": [
    "try:\n",
    "    year = int(input('Enter the year of your birth: '))\n",
    "    age = 2025-year\n",
    "    print(f'You are {age} years old')\n",
    "except ValueError:\n",
    "    print('ValueError has occured')"
   ]
  },
  {
   "cell_type": "markdown",
   "id": "e71a53a6",
   "metadata": {},
   "source": [
    "3. Write a Python program that opens a file and handles a FileNotFoundError exception if the file does not exist."
   ]
  },
  {
   "cell_type": "code",
   "execution_count": 13,
   "id": "437e02d2",
   "metadata": {},
   "outputs": [
    {
     "name": "stdout",
     "output_type": "stream",
     "text": [
      "Error: The file '1doc' was not found.\n"
     ]
    }
   ],
   "source": [
    "file_name = input(\"Enter the file name you want to open: \")\n",
    "\n",
    "try:\n",
    "    with open(file_name, 'r') as file:\n",
    "        content = file.read()\n",
    "        print(\"File content:\\n\")\n",
    "        print(content)\n",
    "except FileNotFoundError:\n",
    "    print(f\"Error: The file '{file_name}' was not found.\")"
   ]
  },
  {
   "cell_type": "markdown",
   "id": "e86ff80e",
   "metadata": {},
   "source": [
    "4. Write a Python program that prompts the user to input two numbers and raises a TypeError exception if the inputs are not numerical."
   ]
  },
  {
   "cell_type": "code",
   "execution_count": 9,
   "id": "bb68621c",
   "metadata": {},
   "outputs": [
    {
     "name": "stdout",
     "output_type": "stream",
     "text": [
      "TypeError has occured\n"
     ]
    }
   ],
   "source": [
    "try:\n",
    "    year = input('Enter the year of your birth: ')\n",
    "    age = 2025-year\n",
    "    print(f'You are {age} years old')\n",
    "except TypeError:\n",
    "    print('TypeError has occured')"
   ]
  },
  {
   "cell_type": "markdown",
   "id": "1679bd78",
   "metadata": {},
   "source": [
    "5. Write a Python program that opens a file and handles a PermissionError exception if there is a permission issue."
   ]
  },
  {
   "cell_type": "code",
   "execution_count": null,
   "id": "7da8131a",
   "metadata": {},
   "outputs": [],
   "source": [
    "file_name = input(\"Enter the file name you want to open: \")\n",
    "\n",
    "try:\n",
    "    with open(file_name, 'r') as file:\n",
    "        content = file.read()\n",
    "        print(\"File content:\\n\")\n",
    "        print(content)\n",
    "except PermissionError:\n",
    "    print(f\"Error: You do not have permission to open the file '{file_name}'.\")"
   ]
  },
  {
   "cell_type": "markdown",
   "id": "9c952f41",
   "metadata": {},
   "source": [
    "6. Write a Python program that executes an operation on a list and handles an IndexError exception if the index is out of range."
   ]
  },
  {
   "cell_type": "code",
   "execution_count": 25,
   "id": "f4e29f21",
   "metadata": {},
   "outputs": [
    {
     "name": "stdout",
     "output_type": "stream",
     "text": [
      "IndexError has occured\n"
     ]
    }
   ],
   "source": [
    "try:\n",
    "    name = [4, 5, 5, 7]\n",
    "    print(name[6])\n",
    "except IndexError:\n",
    "    print('IndexError has occured')\n"
   ]
  },
  {
   "cell_type": "markdown",
   "id": "25662c0a",
   "metadata": {},
   "source": [
    "7. Write a Python program that prompts the user to input a number and handles a KeyboardInterrupt exception if the user cancels the input."
   ]
  },
  {
   "cell_type": "code",
   "execution_count": 28,
   "id": "7d4a98f2",
   "metadata": {},
   "outputs": [
    {
     "name": "stdout",
     "output_type": "stream",
     "text": [
      "\n",
      "Input cancelled by user.\n"
     ]
    }
   ],
   "source": [
    "try:\n",
    "    number = input(\"Enter a number: \")\n",
    "    print(f\"You entered: {number}\")\n",
    "except KeyboardInterrupt:\n",
    "    print(\"\\nInput cancelled by user.\")"
   ]
  },
  {
   "cell_type": "markdown",
   "id": "d92d68d2",
   "metadata": {},
   "source": [
    "8. Write a Python program that executes division and handles an ArithmeticError exception if there is an arithmetic error."
   ]
  },
  {
   "cell_type": "code",
   "execution_count": 31,
   "metadata": {},
   "outputs": [
    {
     "name": "stdout",
     "output_type": "stream",
     "text": [
      "Arithmetic error occurred (e.g., division by zero).\n"
     ]
    }
   ],
   "source": [
    "try:\n",
    "    a = float(input(\"Enter numerator: \"))\n",
    "    b = float(input(\"Enter denominator: \"))\n",
    "    result = a / b\n",
    "    print(f\"Result: {result}\")\n",
    "except ArithmeticError:\n",
    "    print(\"Arithmetic error occurred (e.g., division by zero).\")"
   ]
  },
  {
   "cell_type": "markdown",
   "id": "a3b14e76",
   "metadata": {},
   "source": [
    "9. Write a Python program that opens a file and handles a UnicodeDecodeError exception if there is an encoding issue."
   ]
  },
  {
   "cell_type": "code",
   "execution_count": null,
   "id": "f2502708",
   "metadata": {},
   "outputs": [],
   "source": [
    "file_name = input(\"Enter the file name: \")\n",
    "\n",
    "try:\n",
    "    with open(file_name, 'r', encoding='utf-8') as file:\n",
    "        content = file.read()\n",
    "        print(content)\n",
    "except UnicodeDecodeError:\n",
    "    print(\"Error: Cannot decode file. Try using a different encoding.\")"
   ]
  },
  {
   "cell_type": "markdown",
   "id": "a1901242",
   "metadata": {},
   "source": [
    "10. Write a Python program that executes a list operation and handles an AttributeError exception if the attribute does not exist."
   ]
  },
  {
   "cell_type": "code",
   "execution_count": null,
   "id": "18cb2814",
   "metadata": {},
   "outputs": [
    {
     "name": "stdout",
     "output_type": "stream",
     "text": [
      "AttributeError: This attribute or method does not exist for the list.\n"
     ]
    }
   ],
   "source": [
    "try:\n",
    "    my_list = [1, 2, 3]\n",
    "    my_list.upper()  \n",
    "except AttributeError:\n",
    "    print(\"AttributeError: This attribute or method does not exist for the list.\")"
   ]
  },
  {
   "cell_type": "markdown",
   "id": "3b7d8745",
   "metadata": {},
   "source": [
    "### Python File Input Output: Exercises, Practice, Solution"
   ]
  },
  {
   "cell_type": "markdown",
   "id": "62efb4bb",
   "metadata": {},
   "source": [
    "Write a Python program to read an entire text file."
   ]
  },
  {
   "cell_type": "code",
   "execution_count": 36,
   "id": "b49ee440",
   "metadata": {},
   "outputs": [
    {
     "name": "stdout",
     "output_type": "stream",
     "text": [
      "File has opened and closed\n",
      "This is new sample text\n"
     ]
    }
   ],
   "source": [
    "with open(r'C:\\Users\\admin\\Desktop\\Python Home Works\\sample.txt', 'r') as f:\n",
    "    print('File has opened and closed')\n",
    "    print(f.read())"
   ]
  },
  {
   "cell_type": "markdown",
   "id": "78509c4c",
   "metadata": {},
   "source": [
    "Write a Python program to read first n lines of a file."
   ]
  },
  {
   "cell_type": "code",
   "execution_count": 37,
   "id": "78b615f0",
   "metadata": {},
   "outputs": [
    {
     "name": "stdout",
     "output_type": "stream",
     "text": [
      "First line: This is new sample text\n"
     ]
    }
   ],
   "source": [
    "with open(r'C:\\Users\\admin\\Desktop\\Python Home Works\\sample.txt', 'r') as f:\n",
    "    first_line = f.readline()\n",
    "    print('First line:', first_line)"
   ]
  },
  {
   "cell_type": "markdown",
   "id": "f6203245",
   "metadata": {},
   "source": [
    "Write a Python program to append text to a file and display the text."
   ]
  },
  {
   "cell_type": "code",
   "execution_count": 38,
   "id": "5a722ec6",
   "metadata": {},
   "outputs": [
    {
     "name": "stdout",
     "output_type": "stream",
     "text": [
      "File content after appending:\n",
      " This is new sample text\n"
     ]
    }
   ],
   "source": [
    "with open(r'C:\\Users\\admin\\Desktop\\Python Home Works\\sample.txt', 'r') as f:\n",
    "    content = f.read()\n",
    "    print('File content after appending:\\n', content)"
   ]
  }
 ],
 "metadata": {
  "kernelspec": {
   "display_name": "Python 3",
   "language": "python",
   "name": "python3"
  },
  "language_info": {
   "codemirror_mode": {
    "name": "ipython",
    "version": 3
   },
   "file_extension": ".py",
   "mimetype": "text/x-python",
   "name": "python",
   "nbconvert_exporter": "python",
   "pygments_lexer": "ipython3",
   "version": "3.12.5"
  }
 },
 "nbformat": 4,
 "nbformat_minor": 5
}
