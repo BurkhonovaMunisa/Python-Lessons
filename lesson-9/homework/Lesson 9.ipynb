{
 "cells": [
  {
   "cell_type": "code",
   "execution_count": 1,
   "id": "63731581",
   "metadata": {},
   "outputs": [],
   "source": [
    "import math\n",
    "\n",
    "class Circle:\n",
    "    def __init__(self, radius: float):\n",
    "        self.radius = radius\n",
    "\n",
    "    def area(self) -> float:\n",
    "        return math.pi * self.radius ** 2\n",
    "\n",
    "    def perimeter(self) -> float:\n",
    "        return 2 * math.pi * self.radius"
   ]
  },
  {
   "cell_type": "code",
   "execution_count": 2,
   "id": "76b76c8d",
   "metadata": {},
   "outputs": [],
   "source": [
    "from datetime import date, datetime\n",
    "\n",
    "class Person:\n",
    "    def __init__(self, name: str, country: str, dob: str):  # dob format: YYYY-MM-DD\n",
    "        self.name = name\n",
    "        self.country = country\n",
    "        self.dob = datetime.strptime(dob, \"%Y-%m-%d\").date()\n",
    "\n",
    "    def age(self) -> int:\n",
    "        today = date.today()\n",
    "        years = today.year - self.dob.year\n",
    "        if (today.month, today.day) < (self.dob.month, self.dob.day):\n",
    "            years -= 1\n",
    "        return years"
   ]
  },
  {
   "cell_type": "code",
   "execution_count": 3,
   "id": "7e5c7b49",
   "metadata": {},
   "outputs": [],
   "source": [
    "class Calculator:\n",
    "    def add(self, a, b): return a + b\n",
    "    def subtract(self, a, b): return a - b\n",
    "    def multiply(self, a, b): return a * b\n",
    "    def divide(self, a, b): return a / b if b != 0 else None"
   ]
  },
  {
   "cell_type": "code",
   "execution_count": null,
   "id": "027e4469",
   "metadata": {},
   "outputs": [],
   "source": [
    "import math\n",
    "\n",
    "class Shape:\n",
    "    def area(self): raise NotImplementedError\n",
    "    def perimeter(self): raise NotImplementedError\n",
    "\n",
    "class CircleShape(Shape):\n",
    "    def __init__(self, radius): self.radius = radius\n",
    "    def area(self): return math.pi * self.radius ** 2\n",
    "    def perimeter(self): return 2 * math.pi * self.radius\n",
    "\n",
    "class Triangle(Shape):\n",
    "    def __init__(self, a, b, c): self.a, self.b, self.c = a, b, c\n",
    "    def area(self):\n",
    "        s = (self.a + self.b + self.c) / 2\n",
    "        return math.sqrt(s * (s - self.a) * (s - self.b) * (s - self.c))\n",
    "    def perimeter(self): return self.a + self.b + self.c\n",
    "\n",
    "class Square(Shape):\n",
    "    def __init__(self, side): self.side = side\n",
    "    def area(self): return self.side ** 2\n",
    "    def perimeter(self): return 4 * self.side"
   ]
  },
  {
   "cell_type": "code",
   "execution_count": 4,
   "id": "b10eee11",
   "metadata": {},
   "outputs": [],
   "source": [
    "class BSTNode:\n",
    "    def __init__(self, value):\n",
    "        self.value = value\n",
    "        self.left = self.right = None\n",
    "\n",
    "class BinarySearchTree:\n",
    "    def __init__(self): self.root = None\n",
    "\n",
    "    def insert(self, value):\n",
    "        def _insert(node, value):\n",
    "            if not node: return BSTNode(value)\n",
    "            if value < node.value:\n",
    "                node.left = _insert(node.left, value)\n",
    "            elif value > node.value:\n",
    "                node.right = _insert(node.right, value)\n",
    "            return node\n",
    "        self.root = _insert(self.root, value)\n",
    "\n",
    "    def search(self, value):\n",
    "        node = self.root\n",
    "        while node:\n",
    "            if value == node.value: return True\n",
    "            node = node.left if value < node.value else node.right\n",
    "        return False"
   ]
  },
  {
   "cell_type": "code",
   "execution_count": null,
   "id": "a7279d2f",
   "metadata": {},
   "outputs": [],
   "source": [
    "class Stack:\n",
    "    def __init__(self): self._data = []\n",
    "    def push(self, item): self._data.append(item)\n",
    "    def pop(self): return self._data.pop() if self._data else None\n",
    "    def is_empty(self): return not self._data"
   ]
  },
  {
   "cell_type": "code",
   "execution_count": null,
   "id": "1e29749c",
   "metadata": {},
   "outputs": [],
   "source": [
    "class ListNode:\n",
    "    def __init__(self, data):\n",
    "        self.data = data\n",
    "        self.next = None\n",
    "\n",
    "class LinkedList:\n",
    "    def __init__(self): self.head = None\n",
    "\n",
    "    def display(self):\n",
    "        cur = self.head\n",
    "        elems = []\n",
    "        while cur:\n",
    "            elems.append(cur.data)\n",
    "            cur = cur.next\n",
    "        return elems\n",
    "\n",
    "    def insert(self, data):\n",
    "        new_node = ListNode(data)\n",
    "        new_node.next = self.head\n",
    "        self.head = new_node\n",
    "\n",
    "    def delete(self, key):\n",
    "        cur = self.head\n",
    "        prev = None\n",
    "        while cur and cur.data != key:\n",
    "            prev, cur = cur, cur.next\n",
    "        if cur:\n",
    "            if prev: prev.next = cur.next\n",
    "            else: self.head = cur.next"
   ]
  },
  {
   "cell_type": "code",
   "execution_count": 8,
   "id": "5157d2d6",
   "metadata": {},
   "outputs": [],
   "source": [
    "class ShoppingCart:\n",
    "    def __init__(self): self.items = {}  # item -> (price, qty)\n",
    "\n",
    "    def add_item(self, name, price, qty=1):\n",
    "        if name in self.items:\n",
    "            p, q = self.items[name]\n",
    "            self.items[name] = (price, q + qty)\n",
    "        else:\n",
    "            self.items[name] = (price, qty)\n",
    "\n",
    "    def remove_item(self, name, qty=1):\n",
    "        if name in self.items:\n",
    "            p, q = self.items[name]\n",
    "            if q <= qty:\n",
    "                del self.items[name]\n",
    "            else:\n",
    "                self.items[name] = (p, q - qty)\n",
    "\n",
    "    def total_price(self):\n",
    "        return sum(price * qty for price, qty in self.items.values())"
   ]
  },
  {
   "cell_type": "code",
   "execution_count": 9,
   "id": "40975524",
   "metadata": {},
   "outputs": [],
   "source": [
    "class DisplayStack:\n",
    "    def __init__(self): self._data = []\n",
    "    def push(self, item): self._data.append(item)\n",
    "    def pop(self): return self._data.pop() if self._data else None\n",
    "    def display(self): return list(self._data)"
   ]
  },
  {
   "cell_type": "code",
   "execution_count": 10,
   "id": "8d3ca3ad",
   "metadata": {},
   "outputs": [],
   "source": [
    "class Queue:\n",
    "    def __init__(self): self._data = []\n",
    "    def enqueue(self, item): self._data.append(item)\n",
    "    def dequeue(self): return self._data.pop(0) if self._data else None\n",
    "    def is_empty(self): return not self._data"
   ]
  },
  {
   "cell_type": "code",
   "execution_count": 13,
   "id": "9db015e5",
   "metadata": {},
   "outputs": [],
   "source": [
    "class Account:\n",
    "    def __init__(self, acc_no, owner, balance=0):\n",
    "        self.acc_no, self.owner, self.balance = acc_no, owner, balance\n",
    "\n",
    "    def deposit(self, amount): self.balance += amount\n",
    "    def withdraw(self, amount): \n",
    "        if amount <= self.balance:\n",
    "            self.balance -= amount\n",
    "            return True\n",
    "        return False\n",
    "\n",
    "class Bank:\n",
    "    def __init__(self): self.accounts = {}\n",
    "\n",
    "    def add_account(self, acc_no, owner, balance=0):\n",
    "        self.accounts[acc_no] = Account(acc_no, owner, balance)\n",
    "\n",
    "    def get_account(self, acc_no): return self.accounts.get(acc_no)\n",
    "\n",
    "    def transfer(self, from_acc, to_acc, amount):\n",
    "        src, dst = self.get_account(from_acc), self.get_account(to_acc)\n",
    "        if src and dst and src.withdraw(amount):\n",
    "            dst.deposit(amount)\n",
    "            return True\n",
    "        return False"
   ]
  }
 ],
 "metadata": {
  "kernelspec": {
   "display_name": "Python 3",
   "language": "python",
   "name": "python3"
  },
  "language_info": {
   "codemirror_mode": {
    "name": "ipython",
    "version": 3
   },
   "file_extension": ".py",
   "mimetype": "text/x-python",
   "name": "python",
   "nbconvert_exporter": "python",
   "pygments_lexer": "ipython3",
   "version": "3.12.5"
  }
 },
 "nbformat": 4,
 "nbformat_minor": 5
}
